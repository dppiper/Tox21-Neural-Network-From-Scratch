{
 "cells": [
  {
   "cell_type": "markdown",
   "id": "3619aa49",
   "metadata": {},
   "source": [
    "# Implementing a Neural Network From Scratch with NumPy"
   ]
  },
  {
   "cell_type": "markdown",
   "id": "8abbb6ec",
   "metadata": {},
   "source": [
    "## Setup"
   ]
  },
  {
   "cell_type": "code",
   "execution_count": 1,
   "id": "2680bded",
   "metadata": {},
   "outputs": [],
   "source": [
    "import numpy as np\n",
    "import pandas as pd\n",
    "from rdkit import Chem\n",
    "from rdkit.Chem import rdFingerprintGenerator\n",
    "from funcs import *\n",
    "import seaborn as sns\n",
    "from tqdm import tqdm\n",
    "import matplotlib.pyplot as plt"
   ]
  },
  {
   "cell_type": "markdown",
   "id": "670f602a",
   "metadata": {},
   "source": [
    "## Load Tox21 Dataset"
   ]
  },
  {
   "cell_type": "markdown",
   "id": "78cf4d40",
   "metadata": {},
   "source": [
    "This data is from the Tox21 Data Challenge 2014 -- Nuclear Receptor Signaling Panel **AR Assay** found here:\n",
    "\n",
    "https://tripod.nih.gov/tox21/challenge/data.jsp#"
   ]
  },
  {
   "cell_type": "code",
   "execution_count": 2,
   "id": "258f9573",
   "metadata": {},
   "outputs": [
    {
     "name": "stderr",
     "output_type": "stream",
     "text": [
      "[00:20:45] Explicit valence for atom # 0 Cl, 1, is greater than permitted\n",
      "[00:20:46] Explicit valence for atom # 2 Cl, 1, is greater than permitted\n",
      "[00:20:46] WARNING: not removing hydrogen atom without neighbors\n"
     ]
    },
    {
     "data": {
      "text/html": [
       "<div>\n",
       "<style scoped>\n",
       "    .dataframe tbody tr th:only-of-type {\n",
       "        vertical-align: middle;\n",
       "    }\n",
       "\n",
       "    .dataframe tbody tr th {\n",
       "        vertical-align: top;\n",
       "    }\n",
       "\n",
       "    .dataframe thead th {\n",
       "        text-align: right;\n",
       "    }\n",
       "</style>\n",
       "<table border=\"1\" class=\"dataframe\">\n",
       "  <thead>\n",
       "    <tr style=\"text-align: right;\">\n",
       "      <th></th>\n",
       "      <th>Smiles</th>\n",
       "      <th>ID</th>\n",
       "      <th>Active</th>\n",
       "      <th>mol</th>\n",
       "      <th>fingerprint</th>\n",
       "    </tr>\n",
       "  </thead>\n",
       "  <tbody>\n",
       "    <tr>\n",
       "      <th>0</th>\n",
       "      <td>CC(O)=O.CCNC(=O)[C@@H]1CCCN1C(=O)[C@H](CCCNC(N...</td>\n",
       "      <td>NCGC00167516-01</td>\n",
       "      <td>0</td>\n",
       "      <td>&lt;rdkit.Chem.rdchem.Mol object at 0x000001E43D1...</td>\n",
       "      <td>[0, 1, 0, 0, 0, 0, 0, 0, 0, 0, 0, 0, 0, 0, 0, ...</td>\n",
       "    </tr>\n",
       "    <tr>\n",
       "      <th>1</th>\n",
       "      <td>Cl.CCCCCCOC1=CC=C(C(=N)N(CCCC)CCCC)C2=C1C=CC=C2</td>\n",
       "      <td>NCGC00181091-01</td>\n",
       "      <td>0</td>\n",
       "      <td>&lt;rdkit.Chem.rdchem.Mol object at 0x000001E43D1...</td>\n",
       "      <td>[0, 0, 0, 0, 0, 0, 0, 0, 0, 0, 0, 0, 0, 1, 0, ...</td>\n",
       "    </tr>\n",
       "    <tr>\n",
       "      <th>2</th>\n",
       "      <td>Cl.Cl.COCC(=O)O[C@]3(CCN(C)CCCC1=NC2=C(N1)C=CC...</td>\n",
       "      <td>NCGC00094089-01</td>\n",
       "      <td>0</td>\n",
       "      <td>&lt;rdkit.Chem.rdchem.Mol object at 0x000001E43D1...</td>\n",
       "      <td>[0, 1, 0, 0, 0, 0, 0, 0, 0, 0, 0, 0, 0, 0, 0, ...</td>\n",
       "    </tr>\n",
       "    <tr>\n",
       "      <th>3</th>\n",
       "      <td>Cl.Cl.CCCCC(CC)CNC(=N)NC(=N)NCCCCCCNC(=N)NC(=N...</td>\n",
       "      <td>NCGC00094996-01</td>\n",
       "      <td>0</td>\n",
       "      <td>&lt;rdkit.Chem.rdchem.Mol object at 0x000001E43D1...</td>\n",
       "      <td>[0, 1, 0, 0, 0, 0, 0, 0, 0, 0, 0, 0, 0, 0, 0, ...</td>\n",
       "    </tr>\n",
       "    <tr>\n",
       "      <th>4</th>\n",
       "      <td>[Br-].CCCCCCCCCCCC[N+](C)(C)CCOC1=CC=CC=C1</td>\n",
       "      <td>NCGC00257773-01</td>\n",
       "      <td>0</td>\n",
       "      <td>&lt;rdkit.Chem.rdchem.Mol object at 0x000001E43D1...</td>\n",
       "      <td>[0, 0, 0, 0, 0, 0, 0, 0, 0, 0, 0, 0, 0, 1, 0, ...</td>\n",
       "    </tr>\n",
       "    <tr>\n",
       "      <th>...</th>\n",
       "      <td>...</td>\n",
       "      <td>...</td>\n",
       "      <td>...</td>\n",
       "      <td>...</td>\n",
       "      <td>...</td>\n",
       "    </tr>\n",
       "    <tr>\n",
       "      <th>9357</th>\n",
       "      <td>CCCC1=CC(=O)NC(=S)N1</td>\n",
       "      <td>NCGC00259290-01</td>\n",
       "      <td>0</td>\n",
       "      <td>&lt;rdkit.Chem.rdchem.Mol object at 0x000001E43D3...</td>\n",
       "      <td>[0, 0, 0, 0, 1, 0, 0, 0, 0, 0, 0, 0, 0, 0, 0, ...</td>\n",
       "    </tr>\n",
       "    <tr>\n",
       "      <th>9358</th>\n",
       "      <td>S=C1NCCN1</td>\n",
       "      <td>NCGC00258846-01</td>\n",
       "      <td>0</td>\n",
       "      <td>&lt;rdkit.Chem.rdchem.Mol object at 0x000001E43D3...</td>\n",
       "      <td>[0, 0, 0, 0, 0, 0, 0, 0, 0, 0, 0, 0, 0, 0, 0, ...</td>\n",
       "    </tr>\n",
       "    <tr>\n",
       "      <th>9359</th>\n",
       "      <td>S=C1NCCN1</td>\n",
       "      <td>NCGC00254936-01</td>\n",
       "      <td>0</td>\n",
       "      <td>&lt;rdkit.Chem.rdchem.Mol object at 0x000001E43D3...</td>\n",
       "      <td>[0, 0, 0, 0, 0, 0, 0, 0, 0, 0, 0, 0, 0, 0, 0, ...</td>\n",
       "    </tr>\n",
       "    <tr>\n",
       "      <th>9360</th>\n",
       "      <td>CCOP(=S)(OCC)OC1=CC=C(C=C1)[N+]([O-])=O</td>\n",
       "      <td>NCGC00254571-01</td>\n",
       "      <td>0</td>\n",
       "      <td>&lt;rdkit.Chem.rdchem.Mol object at 0x000001E43D3...</td>\n",
       "      <td>[0, 0, 0, 0, 0, 0, 0, 0, 0, 0, 0, 0, 0, 0, 0, ...</td>\n",
       "    </tr>\n",
       "    <tr>\n",
       "      <th>9361</th>\n",
       "      <td>CCC(COC(=O)CCS)(COC(=O)CCS)COC(=O)CCS</td>\n",
       "      <td>NCGC00256198-01</td>\n",
       "      <td>0</td>\n",
       "      <td>&lt;rdkit.Chem.rdchem.Mol object at 0x000001E43D3...</td>\n",
       "      <td>[0, 0, 0, 0, 0, 0, 0, 0, 0, 0, 0, 0, 0, 0, 0, ...</td>\n",
       "    </tr>\n",
       "  </tbody>\n",
       "</table>\n",
       "<p>9360 rows × 5 columns</p>\n",
       "</div>"
      ],
      "text/plain": [
       "                                                 Smiles               ID  \\\n",
       "0     CC(O)=O.CCNC(=O)[C@@H]1CCCN1C(=O)[C@H](CCCNC(N...  NCGC00167516-01   \n",
       "1       Cl.CCCCCCOC1=CC=C(C(=N)N(CCCC)CCCC)C2=C1C=CC=C2  NCGC00181091-01   \n",
       "2     Cl.Cl.COCC(=O)O[C@]3(CCN(C)CCCC1=NC2=C(N1)C=CC...  NCGC00094089-01   \n",
       "3     Cl.Cl.CCCCC(CC)CNC(=N)NC(=N)NCCCCCCNC(=N)NC(=N...  NCGC00094996-01   \n",
       "4            [Br-].CCCCCCCCCCCC[N+](C)(C)CCOC1=CC=CC=C1  NCGC00257773-01   \n",
       "...                                                 ...              ...   \n",
       "9357                               CCCC1=CC(=O)NC(=S)N1  NCGC00259290-01   \n",
       "9358                                          S=C1NCCN1  NCGC00258846-01   \n",
       "9359                                          S=C1NCCN1  NCGC00254936-01   \n",
       "9360            CCOP(=S)(OCC)OC1=CC=C(C=C1)[N+]([O-])=O  NCGC00254571-01   \n",
       "9361              CCC(COC(=O)CCS)(COC(=O)CCS)COC(=O)CCS  NCGC00256198-01   \n",
       "\n",
       "      Active                                                mol  \\\n",
       "0          0  <rdkit.Chem.rdchem.Mol object at 0x000001E43D1...   \n",
       "1          0  <rdkit.Chem.rdchem.Mol object at 0x000001E43D1...   \n",
       "2          0  <rdkit.Chem.rdchem.Mol object at 0x000001E43D1...   \n",
       "3          0  <rdkit.Chem.rdchem.Mol object at 0x000001E43D1...   \n",
       "4          0  <rdkit.Chem.rdchem.Mol object at 0x000001E43D1...   \n",
       "...      ...                                                ...   \n",
       "9357       0  <rdkit.Chem.rdchem.Mol object at 0x000001E43D3...   \n",
       "9358       0  <rdkit.Chem.rdchem.Mol object at 0x000001E43D3...   \n",
       "9359       0  <rdkit.Chem.rdchem.Mol object at 0x000001E43D3...   \n",
       "9360       0  <rdkit.Chem.rdchem.Mol object at 0x000001E43D3...   \n",
       "9361       0  <rdkit.Chem.rdchem.Mol object at 0x000001E43D3...   \n",
       "\n",
       "                                            fingerprint  \n",
       "0     [0, 1, 0, 0, 0, 0, 0, 0, 0, 0, 0, 0, 0, 0, 0, ...  \n",
       "1     [0, 0, 0, 0, 0, 0, 0, 0, 0, 0, 0, 0, 0, 1, 0, ...  \n",
       "2     [0, 1, 0, 0, 0, 0, 0, 0, 0, 0, 0, 0, 0, 0, 0, ...  \n",
       "3     [0, 1, 0, 0, 0, 0, 0, 0, 0, 0, 0, 0, 0, 0, 0, ...  \n",
       "4     [0, 0, 0, 0, 0, 0, 0, 0, 0, 0, 0, 0, 0, 1, 0, ...  \n",
       "...                                                 ...  \n",
       "9357  [0, 0, 0, 0, 1, 0, 0, 0, 0, 0, 0, 0, 0, 0, 0, ...  \n",
       "9358  [0, 0, 0, 0, 0, 0, 0, 0, 0, 0, 0, 0, 0, 0, 0, ...  \n",
       "9359  [0, 0, 0, 0, 0, 0, 0, 0, 0, 0, 0, 0, 0, 0, 0, ...  \n",
       "9360  [0, 0, 0, 0, 0, 0, 0, 0, 0, 0, 0, 0, 0, 0, 0, ...  \n",
       "9361  [0, 0, 0, 0, 0, 0, 0, 0, 0, 0, 0, 0, 0, 0, 0, ...  \n",
       "\n",
       "[9360 rows x 5 columns]"
      ]
     },
     "execution_count": 2,
     "metadata": {},
     "output_type": "execute_result"
    }
   ],
   "source": [
    "# Load data\n",
    "df = pd.read_csv('nr-ar.smiles', sep='\\t', header=None).dropna()\n",
    "\n",
    "# Rename columns\n",
    "df.columns = ['Smiles', 'ID', 'Active']\n",
    "\n",
    "# Add fingerprints\n",
    "mfpgen = rdFingerprintGenerator.GetMorganGenerator(radius=2, fpSize = 2048)\n",
    "df['mol'] = df.Smiles.apply(Chem.MolFromSmiles)\n",
    "df.dropna(inplace = True)\n",
    "df['fingerprint'] = df.mol.apply(lambda x: np.array(mfpgen.GetFingerprint(x)))\n",
    "\n",
    "df"
   ]
  },
  {
   "cell_type": "markdown",
   "id": "14b731b6",
   "metadata": {},
   "source": [
    "## Create Train/Test/Val Splits"
   ]
  },
  {
   "cell_type": "markdown",
   "id": "18077cd6",
   "metadata": {},
   "source": [
    "I am just using a random split in this case. \n",
    "\n",
    "\n",
    "80/10/10"
   ]
  },
  {
   "cell_type": "code",
   "execution_count": 3,
   "id": "fda057b6",
   "metadata": {},
   "outputs": [],
   "source": [
    "#Shuffle dataframe rows\n",
    "df = df.sample(frac=1, random_state=42).reset_index().drop(columns=['index', 'Smiles', 'mol'])\n",
    "\n",
    "# Make train/test/val splits\n",
    "num_samples = len(df)\n",
    "train_cutoff = int(num_samples*0.8)\n",
    "test_cutoff = int(num_samples*0.9)\n",
    "df_train = df[0:train_cutoff]\n",
    "df_test = df[train_cutoff:test_cutoff]\n",
    "df_val = df[test_cutoff:]"
   ]
  },
  {
   "cell_type": "markdown",
   "id": "8f5c7d43",
   "metadata": {},
   "source": [
    "## Neural Net"
   ]
  },
  {
   "cell_type": "code",
   "execution_count": 4,
   "id": "6ab0e26a",
   "metadata": {},
   "outputs": [
    {
     "data": {
      "text/html": [
       "<div>\n",
       "<style scoped>\n",
       "    .dataframe tbody tr th:only-of-type {\n",
       "        vertical-align: middle;\n",
       "    }\n",
       "\n",
       "    .dataframe tbody tr th {\n",
       "        vertical-align: top;\n",
       "    }\n",
       "\n",
       "    .dataframe thead th {\n",
       "        text-align: right;\n",
       "    }\n",
       "</style>\n",
       "<table border=\"1\" class=\"dataframe\">\n",
       "  <thead>\n",
       "    <tr style=\"text-align: right;\">\n",
       "      <th></th>\n",
       "      <th>ID</th>\n",
       "      <th>Active</th>\n",
       "      <th>fingerprint</th>\n",
       "    </tr>\n",
       "  </thead>\n",
       "  <tbody>\n",
       "    <tr>\n",
       "      <th>0</th>\n",
       "      <td>NCGC00254542-01</td>\n",
       "      <td>0</td>\n",
       "      <td>[0, 1, 0, 0, 0, 0, 0, 0, 0, 0, 0, 0, 0, 0, 0, ...</td>\n",
       "    </tr>\n",
       "    <tr>\n",
       "      <th>1</th>\n",
       "      <td>NCGC00093759-01</td>\n",
       "      <td>0</td>\n",
       "      <td>[0, 0, 0, 0, 0, 0, 0, 0, 0, 0, 0, 0, 0, 0, 0, ...</td>\n",
       "    </tr>\n",
       "    <tr>\n",
       "      <th>2</th>\n",
       "      <td>NCGC00183843-01</td>\n",
       "      <td>0</td>\n",
       "      <td>[0, 0, 0, 0, 0, 0, 0, 0, 0, 0, 0, 0, 0, 0, 0, ...</td>\n",
       "    </tr>\n",
       "    <tr>\n",
       "      <th>3</th>\n",
       "      <td>NCGC00258736-01</td>\n",
       "      <td>0</td>\n",
       "      <td>[0, 0, 0, 0, 0, 0, 0, 0, 0, 0, 0, 0, 0, 0, 0, ...</td>\n",
       "    </tr>\n",
       "    <tr>\n",
       "      <th>4</th>\n",
       "      <td>NCGC00256003-01</td>\n",
       "      <td>0</td>\n",
       "      <td>[0, 0, 0, 0, 0, 0, 0, 0, 0, 0, 0, 0, 0, 0, 0, ...</td>\n",
       "    </tr>\n",
       "    <tr>\n",
       "      <th>...</th>\n",
       "      <td>...</td>\n",
       "      <td>...</td>\n",
       "      <td>...</td>\n",
       "    </tr>\n",
       "    <tr>\n",
       "      <th>7483</th>\n",
       "      <td>NCGC00016580-01</td>\n",
       "      <td>0</td>\n",
       "      <td>[0, 1, 0, 0, 0, 0, 0, 0, 0, 0, 0, 0, 0, 0, 0, ...</td>\n",
       "    </tr>\n",
       "    <tr>\n",
       "      <th>7484</th>\n",
       "      <td>NCGC00017043-02</td>\n",
       "      <td>0</td>\n",
       "      <td>[0, 0, 0, 0, 0, 0, 0, 0, 0, 0, 0, 0, 0, 0, 0, ...</td>\n",
       "    </tr>\n",
       "    <tr>\n",
       "      <th>7485</th>\n",
       "      <td>NCGC00160377-01</td>\n",
       "      <td>0</td>\n",
       "      <td>[0, 1, 0, 0, 0, 0, 0, 0, 0, 0, 0, 0, 0, 0, 0, ...</td>\n",
       "    </tr>\n",
       "    <tr>\n",
       "      <th>7486</th>\n",
       "      <td>NCGC00255635-01</td>\n",
       "      <td>0</td>\n",
       "      <td>[0, 0, 0, 0, 0, 0, 0, 0, 0, 0, 0, 0, 0, 0, 0, ...</td>\n",
       "    </tr>\n",
       "    <tr>\n",
       "      <th>7487</th>\n",
       "      <td>NCGC00260238-01</td>\n",
       "      <td>0</td>\n",
       "      <td>[0, 0, 0, 0, 0, 0, 0, 0, 0, 0, 0, 0, 0, 0, 0, ...</td>\n",
       "    </tr>\n",
       "  </tbody>\n",
       "</table>\n",
       "<p>7488 rows × 3 columns</p>\n",
       "</div>"
      ],
      "text/plain": [
       "                   ID  Active  \\\n",
       "0     NCGC00254542-01       0   \n",
       "1     NCGC00093759-01       0   \n",
       "2     NCGC00183843-01       0   \n",
       "3     NCGC00258736-01       0   \n",
       "4     NCGC00256003-01       0   \n",
       "...               ...     ...   \n",
       "7483  NCGC00016580-01       0   \n",
       "7484  NCGC00017043-02       0   \n",
       "7485  NCGC00160377-01       0   \n",
       "7486  NCGC00255635-01       0   \n",
       "7487  NCGC00260238-01       0   \n",
       "\n",
       "                                            fingerprint  \n",
       "0     [0, 1, 0, 0, 0, 0, 0, 0, 0, 0, 0, 0, 0, 0, 0, ...  \n",
       "1     [0, 0, 0, 0, 0, 0, 0, 0, 0, 0, 0, 0, 0, 0, 0, ...  \n",
       "2     [0, 0, 0, 0, 0, 0, 0, 0, 0, 0, 0, 0, 0, 0, 0, ...  \n",
       "3     [0, 0, 0, 0, 0, 0, 0, 0, 0, 0, 0, 0, 0, 0, 0, ...  \n",
       "4     [0, 0, 0, 0, 0, 0, 0, 0, 0, 0, 0, 0, 0, 0, 0, ...  \n",
       "...                                                 ...  \n",
       "7483  [0, 1, 0, 0, 0, 0, 0, 0, 0, 0, 0, 0, 0, 0, 0, ...  \n",
       "7484  [0, 0, 0, 0, 0, 0, 0, 0, 0, 0, 0, 0, 0, 0, 0, ...  \n",
       "7485  [0, 1, 0, 0, 0, 0, 0, 0, 0, 0, 0, 0, 0, 0, 0, ...  \n",
       "7486  [0, 0, 0, 0, 0, 0, 0, 0, 0, 0, 0, 0, 0, 0, 0, ...  \n",
       "7487  [0, 0, 0, 0, 0, 0, 0, 0, 0, 0, 0, 0, 0, 0, 0, ...  \n",
       "\n",
       "[7488 rows x 3 columns]"
      ]
     },
     "execution_count": 4,
     "metadata": {},
     "output_type": "execute_result"
    }
   ],
   "source": [
    "df_train"
   ]
  },
  {
   "cell_type": "code",
   "execution_count": 5,
   "id": "d475c640",
   "metadata": {},
   "outputs": [
    {
     "data": {
      "text/plain": [
       "array([[0.0014716 , 0.00314057, 0.00633586, ..., 0.00707268, 0.00445841,\n",
       "        0.00095111],\n",
       "       [0.00590079, 0.00415166, 0.00298521, ..., 0.00398973, 0.0016514 ,\n",
       "        0.00347325]], shape=(2, 2048))"
      ]
     },
     "execution_count": 5,
     "metadata": {},
     "output_type": "execute_result"
    }
   ],
   "source": [
    "weights = np.stack([np.random.random(2048)/100 for i in range(2)])\n",
    "weights"
   ]
  },
  {
   "cell_type": "code",
   "execution_count": 22,
   "id": "bf9dda04",
   "metadata": {},
   "outputs": [
    {
     "name": "stderr",
     "output_type": "stream",
     "text": [
      "100%|██████████| 100/100 [00:05<00:00, 18.97it/s]\n"
     ]
    }
   ],
   "source": [
    "\n",
    "# Initialize hidden layer weight matrix and bias_2\n",
    "input_size = 2048\n",
    "hidden_size = 128\n",
    "\n",
    "weights_1 = np.stack([np.random.random(input_size)/100 for _ in range(128)], axis=1)\n",
    "bias_1 = 1\n",
    "\n",
    "# Initialize output layer weights and bias_2\n",
    "weights_2 = np.random.random(hidden_size)/100\n",
    "bias_2 = 1\n",
    "num_epochs = 100\n",
    "\n",
    "all_losses = []\n",
    "biases = []\n",
    "all_losses_val = []\n",
    "\n",
    "# Train data\n",
    "X = np.stack(df_train['fingerprint'].to_list())\n",
    "y = np.array(df_train['Active'].to_list())\n",
    "\n",
    "# Val data\n",
    "X_val = df_val['fingerprint'].to_list()\n",
    "y_val = np.array(df_val['Active'].to_list())\n",
    "\n",
    "for i in tqdm(range(num_epochs)):\n",
    "\n",
    "    ## Forward pass\n",
    "    z1 = np.dot(X, weights_1) + bias_1\n",
    "    a1 = relu(z1)\n",
    "\n",
    "    z2 = np.dot(a1, weights_2) + bias_2\n",
    "    a2 = sigmoid(z2)\n",
    "\n",
    "    # Sigmoid activation function and classify data\n",
    "    cutoff = 0.5\n",
    "    probs = np.array(sigmoid(a2))\n",
    "    preds = np.array([1 if a >= 0.5 else 0 for a in a2])\n",
    "\n",
    "    ## Backpropogation\n",
    "    # # Compute train losses\n",
    "    # losses = bce(ground_truths=y, predicted_probabilities=probs)\n",
    "    # epoch_loss = np.mean(losses)\n",
    "    # all_losses.append(epoch_loss)\n",
    "    # biases.append(bias_2)\n",
    "\n",
    "    # # Compute gradients\n",
    "    # dL_dweights = np.mean((probs - y).reshape(-1,1) * np.stack(X), axis=0)\n",
    "    # dL_db = np.mean(probs - y)\n",
    "    \n",
    "    # # Compute val loss\n",
    "    # zs_val = weighted_sum(X_val, weights_2, bias_2)\n",
    "    # probs_val = np.array(sigmoid(zs_val))\n",
    "    # preds_val = np.array([1 if z >= 0.5 else 0 for z in zs_val])\n",
    "    # losses_val = bce(ground_truths=y_val, predicted_probabilities=probs_val)\n",
    "    # epoch_loss_val = np.mean(losses_val)\n",
    "    # all_losses_val.append(epoch_loss_val)\n",
    "    \n",
    "    # Update rates\n",
    "    # learning_rate = 1.2\n",
    "    # weights_2 = weights_2 - learning_rate*dL_dweights\n",
    "    # bias_2 = bias_2 - learning_rate*dL_db\n",
    "\n",
    "\n",
    "\n",
    "# # Plot training loss and validation loss\n",
    "# fig, axs = plt.subplots(1, 2, figsize=(12, 5))\n",
    "\n",
    "# sns.lineplot(data=all_losses, ax=axs[0])\n",
    "# axs[0].set_title('Training Loss')\n",
    "\n",
    "# sns.lineplot(data=all_losses_val, ax=axs[1])\n",
    "# axs[1].set_title('Validation Loss')\n",
    "\n",
    "# plt.tight_layout()\n",
    "# plt.show()"
   ]
  },
  {
   "cell_type": "code",
   "execution_count": null,
   "id": "b33daba6",
   "metadata": {},
   "outputs": [
    {
     "data": {
      "text/plain": [
       "<Axes: >"
      ]
     },
     "execution_count": 73,
     "metadata": {},
     "output_type": "execute_result"
    },
    {
     "data": {
      "image/png": "[encoded data removed]",
      "text/plain": [
       "<Figure size 640x480 with 1 Axes>"
      ]
     },
     "metadata": {},
     "output_type": "display_data"
    }
   ],
   "source": [
    "sns.lineplot(biases)"
   ]
  },
  {
   "cell_type": "code",
   "execution_count": 23,
   "id": "798e6c05",
   "metadata": {},
   "outputs": [
    {
     "name": "stdout",
     "output_type": "stream",
     "text": [
      "Precision: 0.04113247863247863\n",
      "Recall: 1.0\n",
      "F1: 0.07901487942534634\n"
     ]
    },
    {
     "data": {
      "image/png": "[encoded data removed]",
      "text/plain": [
       "<Figure size 640x480 with 2 Axes>"
      ]
     },
     "metadata": {},
     "output_type": "display_data"
    },
    {
     "data": {
      "image/png": "[encoded data removed]",
      "text/plain": [
       "<Figure size 640x480 with 1 Axes>"
      ]
     },
     "metadata": {},
     "output_type": "display_data"
    }
   ],
   "source": [
    "from sklearn import metrics\n",
    "from sklearn.metrics import PrecisionRecallDisplay, ConfusionMatrixDisplay, precision_score, recall_score, f1_score, auc, precision_recall_curve\n",
    "\n",
    "precision, recall, thresholds = metrics.precision_recall_curve(y_true = y, y_score=probs)\n",
    "\n",
    "ConfusionMatrixDisplay.from_predictions(y, preds)\n",
    "PrecisionRecallDisplay.from_predictions(y, probs, plot_chance_level=True)\n",
    "print(f'Precision: {precision_score(y, preds, zero_division=np.nan)}')\n",
    "print(f'Recall: {recall_score(y, preds, zero_division=np.nan)}')\n",
    "print(f'F1: {f1_score(y, preds, zero_division=np.nan)}')"
   ]
  },
  {
   "cell_type": "markdown",
   "id": "afe51943",
   "metadata": {},
   "source": [
    "## Test Data"
   ]
  },
  {
   "cell_type": "code",
   "execution_count": null,
   "id": "7665785b",
   "metadata": {},
   "outputs": [
    {
     "name": "stdout",
     "output_type": "stream",
     "text": [
      "Precision: 1.0\n",
      "Recall: 0.47619047619047616\n",
      "F1: 0.6451612903225806\n"
     ]
    },
    {
     "data": {
      "image/png": "[encoded data removed]",
      "text/plain": [
       "<Figure size 640x480 with 2 Axes>"
      ]
     },
     "metadata": {},
     "output_type": "display_data"
    },
    {
     "data": {
      "image/png": "[encoded data removed]",
      "text/plain": [
       "<Figure size 640x480 with 1 Axes>"
      ]
     },
     "metadata": {},
     "output_type": "display_data"
    }
   ],
   "source": [
    "X = df_test['fingerprint'].to_list()\n",
    "y = np.array(df_test['Active'].to_list())\n",
    "\n",
    "\n",
    "zs = weighted_sum(X, weights, bias)\n",
    "\n",
    "cutoff = 0.5\n",
    "probs = np.array(sigmoid(zs))\n",
    "preds = np.array([1 if z >= 0.5 else 0 for z in zs])\n",
    "\n",
    "precision, recall, thresholds = metrics.precision_recall_curve(y_true = y, y_score=probs)\n",
    "\n",
    "ConfusionMatrixDisplay.from_predictions(y, preds)\n",
    "PrecisionRecallDisplay.from_predictions(y, probs, plot_chance_level=True)\n",
    "print(f'Precision: {precision_score(y, preds, zero_division=np.nan)}')\n",
    "print(f'Recall: {recall_score(y, preds, zero_division=np.nan)}')\n",
    "print(f'F1: {f1_score(y, preds, zero_division=np.nan)}')"
   ]
  },
  {
   "cell_type": "code",
   "execution_count": null,
   "id": "20a7946b",
   "metadata": {},
   "outputs": [],
   "source": []
  },
  {
   "cell_type": "code",
   "execution_count": null,
   "id": "dcf0d3ab",
   "metadata": {},
   "outputs": [],
   "source": []
  },
  {
   "cell_type": "code",
   "execution_count": null,
   "id": "74719d8b",
   "metadata": {},
   "outputs": [],
   "source": []
  },
  {
   "cell_type": "code",
   "execution_count": null,
   "id": "3bc75d8b",
   "metadata": {},
   "outputs": [],
   "source": []
  }
 ],
 "metadata": {
  "kernelspec": {
   "display_name": "Python 3",
   "language": "python",
   "name": "python3"
  },
  "language_info": {
   "codemirror_mode": {
    "name": "ipython",
    "version": 3
   },
   "file_extension": ".py",
   "mimetype": "text/x-python",
   "name": "python",
   "nbconvert_exporter": "python",
   "pygments_lexer": "ipython3",
   "version": "3.13.3"
  }
 },
 "nbformat": 4,
 "nbformat_minor": 5
}
